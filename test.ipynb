{
 "cells": [
  {
   "cell_type": "code",
   "execution_count": 10,
   "metadata": {},
   "outputs": [
    {
     "ename": "ModuleNotFoundError",
     "evalue": "No module named 'object1'",
     "output_type": "error",
     "traceback": [
      "\u001b[1;31m---------------------------------------------------------------------------\u001b[0m",
      "\u001b[1;31mModuleNotFoundError\u001b[0m                       Traceback (most recent call last)",
      "\u001b[1;32mc:\\Users\\luise\\Documents\\Physics\\Networks-Statistical-Mechanics-NetStPY\\test.ipynb Cell 1'\u001b[0m in \u001b[0;36m<cell line: 1>\u001b[1;34m()\u001b[0m\n\u001b[1;32m----> <a href='vscode-notebook-cell:/c%3A/Users/luise/Documents/Physics/Networks-Statistical-Mechanics-NetStPY/test.ipynb#ch0000000?line=0'>1</a>\u001b[0m \u001b[39mfrom\u001b[39;00m \u001b[39mnetspy\u001b[39;00m \u001b[39mimport\u001b[39;00m object2\n\u001b[0;32m      <a href='vscode-notebook-cell:/c%3A/Users/luise/Documents/Physics/Networks-Statistical-Mechanics-NetStPY/test.ipynb#ch0000000?line=2'>3</a>\u001b[0m \u001b[39m#tomamos un valor lo suficientemente grande para que la probabilidad acumulada final sea muy proxima a 1\u001b[39;00m\n\u001b[0;32m      <a href='vscode-notebook-cell:/c%3A/Users/luise/Documents/Physics/Networks-Statistical-Mechanics-NetStPY/test.ipynb#ch0000000?line=3'>4</a>\u001b[0m xfin \u001b[39m=\u001b[39m \u001b[39m30\u001b[39m \n",
      "File \u001b[1;32mc:\\Users\\luise\\Documents\\Physics\\Networks-Statistical-Mechanics-NetStPY\\netspy\\__init__.py:1\u001b[0m, in \u001b[0;36m<module>\u001b[1;34m\u001b[0m\n\u001b[1;32m----> <a href='file:///c%3A/Users/luise/Documents/Physics/Networks-Statistical-Mechanics-NetStPY/netspy/__init__.py?line=0'>1</a>\u001b[0m \u001b[39mfrom\u001b[39;00m \u001b[39mobject1\u001b[39;00m \u001b[39mimport\u001b[39;00m object1\n",
      "\u001b[1;31mModuleNotFoundError\u001b[0m: No module named 'object1'"
     ]
    }
   ],
   "source": [
    "from netspy import object1\n",
    "\n",
    "#tomamos un valor lo suficientemente grande para que la probabilidad acumulada final sea muy proxima a 1\n",
    "xfin = 30 \n",
    "Nnodes = 100\n",
    "max_degree = Nnodes-1\n",
    "#creamos el vector de probabilidades acumuladas\n",
    "P, x = object1.pareto_cumm_probabilities(max_degree,xfin) "
   ]
  },
  {
   "cell_type": "code",
   "execution_count": 12,
   "metadata": {},
   "outputs": [
    {
     "ename": "ModuleNotFoundError",
     "evalue": "No module named 'object1'",
     "output_type": "error",
     "traceback": [
      "\u001b[1;31m---------------------------------------------------------------------------\u001b[0m",
      "\u001b[1;31mModuleNotFoundError\u001b[0m                       Traceback (most recent call last)",
      "\u001b[1;32mc:\\Users\\luise\\Documents\\Physics\\Networks-Statistical-Mechanics-NetStPY\\test.ipynb Cell 2'\u001b[0m in \u001b[0;36m<cell line: 1>\u001b[1;34m()\u001b[0m\n\u001b[1;32m----> <a href='vscode-notebook-cell:/c%3A/Users/luise/Documents/Physics/Networks-Statistical-Mechanics-NetStPY/test.ipynb#ch0000001?line=0'>1</a>\u001b[0m \u001b[39mimport\u001b[39;00m \u001b[39mnetspy\u001b[39;00m\n",
      "File \u001b[1;32mc:\\Users\\luise\\Documents\\Physics\\Networks-Statistical-Mechanics-NetStPY\\netspy\\__init__.py:1\u001b[0m, in \u001b[0;36m<module>\u001b[1;34m\u001b[0m\n\u001b[1;32m----> <a href='file:///c%3A/Users/luise/Documents/Physics/Networks-Statistical-Mechanics-NetStPY/netspy/__init__.py?line=0'>1</a>\u001b[0m \u001b[39mfrom\u001b[39;00m \u001b[39mobject1\u001b[39;00m \u001b[39mimport\u001b[39;00m object1\n",
      "\u001b[1;31mModuleNotFoundError\u001b[0m: No module named 'object1'"
     ]
    }
   ],
   "source": [
    "import netspy"
   ]
  }
 ],
 "metadata": {
  "interpreter": {
   "hash": "a81344316f9659909218fc58cc23170a4d23e84d4ef72005ec347bbcea5acb99"
  },
  "kernelspec": {
   "display_name": "Python 3.9.7 ('physics')",
   "language": "python",
   "name": "python3"
  },
  "language_info": {
   "codemirror_mode": {
    "name": "ipython",
    "version": 3
   },
   "file_extension": ".py",
   "mimetype": "text/x-python",
   "name": "python",
   "nbconvert_exporter": "python",
   "pygments_lexer": "ipython3",
   "version": "3.9.7"
  },
  "orig_nbformat": 4
 },
 "nbformat": 4,
 "nbformat_minor": 2
}

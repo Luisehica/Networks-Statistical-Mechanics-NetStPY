{
 "cells": [
  {
   "cell_type": "code",
   "execution_count": null,
   "metadata": {
    "id": "B4we7oXj2Rye"
   },
   "outputs": [],
   "source": [
    "#networkx para teoría de grafos, matplot para gráficar, random para generar números aleatorios, stats para la entropia y solve para optimizar.\n",
    "import networkx as nx\n",
    "import matplotlib.pyplot as plt\n",
    "import numpy as np\n",
    "from scipy.optimize import fsolve\n",
    "from scipy import stats as st\n",
    "import math"
   ]
  },
  {
   "cell_type": "markdown",
   "metadata": {},
   "source": [
    "# Funciones"
   ]
  },
  {
   "cell_type": "markdown",
   "metadata": {},
   "source": [
    "## # Esta función genera un vector con probabilidades acumuladas de la distribución de pareto"
   ]
  },
  {
   "cell_type": "code",
   "execution_count": null,
   "metadata": {
    "id": "ulVflBTG2Ywx"
   },
   "outputs": [],
   "source": [
    "# Esta función genera un vector con probabilidades acumuladas de la distribución de pareto\n",
    "def pareto_cumm_probabilities(particiones,xfin, distribution = st.pareto.cdf):\n",
    "  \"\"\"\n",
    "  (particiones,xfin) -----> (probability_cum_vector)\n",
    "  Esta función recibe un xfinal hasta donde sumar y un número de particiones\n",
    "  juntos definen la longitud y el valor máximo del vector resultante\n",
    "  \"\"\"\n",
    "  dx = xfin/particiones\n",
    "  x = []\n",
    "  probability_cum_vector = []\n",
    "  for i in range(particiones):\n",
    "    equis = 1 + dx*i\n",
    "    x.append(equis)\n",
    "    pes = st.pareto.cdf(x[i],2.4) #se eligió un coeficiente de 2.4 para la distribución de pareto\n",
    "    probability_cum_vector.append(pes)\n",
    "  return probability_cum_vector, x # entrega como resultado el vector y los valores de x asociados"
   ]
  },
  {
   "cell_type": "code",
   "execution_count": null,
   "metadata": {
    "id": "vTsZkLFw2asL"
   },
   "outputs": [],
   "source": [
    "#La siguiente función nuestrea secuencias de números con la distribución del vector de probabilidades acumuladas\n",
    "def Degree_Sec_Generator(Probabilidad_Acumulada,longitud_Secuencia):\n",
    "  \"\"\"\n",
    "  (Vector Probabilidada Acumulada, Longitud Secuencia) -------> Secuencia de enteros con la distribución del vector\n",
    "  \"\"\"\n",
    "  Degree_Sequence = []\n",
    "  for i in range(longitud_Secuencia):\n",
    "    k = st.uniform.rvs(scale = Probabilidad_Acumulada[len(Probabilidad_Acumulada)-1]) #Se generan números aleatoriamente entre 0 y 0.9999\n",
    "    for j in range(len(Probabilidad_Acumulada)-2):\n",
    "      if k <= Probabilidad_Acumulada[j+2]: # Asocia un entero positivo a cada número entre 0-0.9999\n",
    "        Degree_Sequence.append(j+2) #construye el vector con los enteros positivos asociados a los números entre 0-1\n",
    "        break\n",
    "  return Degree_Sequence"
   ]
  },
  {
   "cell_type": "code",
   "execution_count": null,
   "metadata": {
    "id": "WkIxMGYQ2bBn"
   },
   "outputs": [],
   "source": [
    "#Este algoritmo muestrea secuencias de GRADO con la distribución del vector de probabilidades acumuladas, entrega como output secuencia de grado promedio\n",
    "def Deg_Sec_Prom(Muestreo_seq,Number_nodes,Probability_distribution):\n",
    "  \"\"\"\n",
    "  (num_muestras,number_nodes,cum_prob_distribution) ----------------> (degree_sequence_prom)\n",
    "  esta función hace uso de Degree_Sec_Generator y networkx\n",
    "  \"\"\"\n",
    "  degree_sequences = [] #matriz donde se guardaran las distintas secuencias a muestrear\n",
    "  for i in range(Muestreo_seq): #por cada i generamos una secuencia\n",
    "    degree_sequences.append([]) \n",
    "    for k in range(10000):\n",
    "      Degree_Sequence = Degree_Sec_Generator(Probability_distribution,Number_nodes) #generamos la secuencia de números\n",
    "      if nx.is_valid_degree_sequence_havel_hakimi(Degree_Sequence) == True:\n",
    "        if nx.is_connected(nx.havel_hakimi_graph(Degree_Sequence)) == True: #validamos que sea apta para generar un grafo simple\n",
    "          Degree_Sequence.sort() #la ordenamos, esto con el fin de darle una identidad a los nodos acorde a su puesto en el ranking de medida\n",
    "          for l in range(len(Degree_Sequence)): #este for es para agregar la secuencia de grado a la matriz creada inicialmente\n",
    "            degree_sequences[i].append(Degree_Sequence[l])\n",
    "          break\n",
    "\n",
    "  Degree_sequence_prom = [] #esta parte del codigo calcular el promedio\n",
    "  for i in range(Number_nodes):\n",
    "    sum = 0\n",
    "    for j in range(Muestreo_seq):\n",
    "      sum = sum + degree_sequences[j][i]\n",
    "    Degree_sequence_prom.append(sum/Muestreo_seq)\n",
    "  return Degree_sequence_prom"
   ]
  },
  {
   "cell_type": "code",
   "execution_count": null,
   "metadata": {
    "id": "edsEKAYn688z"
   },
   "outputs": [],
   "source": [
    "# este programa te calcula los multiplicadores de lagrange dada una secuencia de grado acorde al ensamble canonico.\n",
    "def multp_lagrange_canonico(degree_sequence):\n",
    "  \"\"\"\n",
    "  (degree_sequence) ----> (lagrange_multiplicators_canonicalensemble)\n",
    "  esta función te recibe una secuencia de grado, te la impone como ligadura en un ensamble canonico de grafos simples y \n",
    "  te entrega un vector con los multiplicadores de lagrange ordenados de menor a mayor acorde al grado de la restricción asociada \n",
    "  (para más información ver soft configuration model y Newm)\n",
    "  \"\"\"\n",
    "  def lagrange_eq(lagrange_multiplicators, degree_sequence):\n",
    "    n = len(degree_sequence)\n",
    "    matrix = np.zeros((n,n))\n",
    "    for i in range(n):\n",
    "      for j in range(n):\n",
    "        matrix[i][j] = 1/(math.exp(lagrange_multiplicators[i] + lagrange_multiplicators[j]) + 1)\n",
    "      matrix[i][i] = 0\n",
    "    sums = []\n",
    "    for i in range(n):\n",
    "      sum = 0\n",
    "      for j in range(n):\n",
    "        sum = sum + matrix[i][j]\n",
    "      sums.append(sum)\n",
    "    resultado = np.zeros(n)\n",
    "    for i in range(n):\n",
    "      resultado[i] = sums[i] - degree_sequence[i] \n",
    "    return resultado\n",
    "\n",
    "  x0 = np.zeros(len(degree_sequence))\n",
    "  def lagrange(lagrange_multiplicators):\n",
    "    k = lagrange_eq(lagrange_multiplicators,degree_sequence)\n",
    "    return k\n",
    "  #hasta acá lo que se ha hecho es definir las funciones a resolver acorde a los resultados del ensamble canonico \n",
    "  #(para más información buscar soft configuration model)\n",
    "  multiplicators = fsolve(lagrange,x0) #se resuelve el conjunto de ecuaciones hallando los multiplicadores\n",
    "  return multiplicators\n"
   ]
  },
  {
   "cell_type": "code",
   "execution_count": null,
   "metadata": {
    "id": "XFlF2r_I6-ZS"
   },
   "outputs": [],
   "source": [
    "\n",
    "#Esta función recibe un vector con los multiplicadores de lagrange (ordenados de tal manera que el grado correspondiente como ligadura esté ordenado de menor a mayor)\n",
    "def canonical_matrix(Multiplicadores_Lagrange):\n",
    "  Adyacencia_promedio = []\n",
    "  for i in range(len(Multiplicadores_Lagrange)):\n",
    "    Adyacencia_promedio.append([])\n",
    "    for j in range(len(Multiplicadores_Lagrange)):\n",
    "      Adyacencia_promedio[i].append(1/(1 + math.exp((Multiplicadores_Lagrange[i] + Multiplicadores_Lagrange[j]))))\n",
    "  for i in range(len(Multiplicadores_Lagrange)):\n",
    "    Adyacencia_promedio[i][i] = 0\n",
    "  return Adyacencia_promedio #entrega la matriz de adyacencia promedio según el ensamble canónico "
   ]
  },
  {
   "cell_type": "code",
   "execution_count": null,
   "metadata": {
    "id": "eI-th5Lr7G0u"
   },
   "outputs": [],
   "source": [
    "#tomamos un valor lo suficientemente grande para que la probabilidad acumulada final sea muy proxima a 1\n",
    "xfin = 30 \n",
    "Nnodes = 100\n",
    "max_degree = Nnodes-1\n",
    "#creamos el vector de probabilidades acumuladas\n",
    "P, x = pareto_cumm_probabilities(max_degree,xfin) \n",
    "\n",
    "#Creamos la secuencia de grado promedio \n",
    "Sec_prom = Deg_Sec_Prom(2,Nnodes,P) \n",
    "\n",
    "#creamos los multiplicadores de Lagrange\n",
    "multipliers = multp_lagrange_canonico(Sec_prom)\n",
    "\n",
    "#creamos la matriz de adyacencia\n",
    "adjacencia_numerica = canonical_matrix(multipliers)\n",
    "\n",
    "#ploteamos y guardamos\n",
    "fig = plt.figure(figsize=(9,6),dpi = 200)\n",
    "plt.imshow(adjacencia_numerica,cmap = \"inferno\",vmin=0,vmax= 1)\n",
    "plt.title(\"Matriz de adyacencia calculada numericamente\")\n",
    "plt.xlabel(\"Nodos ordenados de menor a mayor grado\")\n",
    "plt.ylabel(\"Nodos ordenados de menor a mayor grado\")\n",
    "plt.colorbar()\n",
    "plt.savefig(\"adj_numerica_canonico.jpg\", bbox_inches='tight', dpi=300)\n",
    "plt.show()"
   ]
  },
  {
   "cell_type": "code",
   "execution_count": null,
   "metadata": {
    "id": "GVz6KferTnd-"
   },
   "outputs": [],
   "source": []
  }
 ],
 "metadata": {
  "colab": {
   "authorship_tag": "ABX9TyNpDm223uTAQKpWu48My5ti",
   "name": "2do objetivo específico",
   "provenance": []
  },
  "kernelspec": {
   "display_name": "Python 3 (ipykernel)",
   "language": "python",
   "name": "python3"
  },
  "language_info": {
   "codemirror_mode": {
    "name": "ipython",
    "version": 3
   },
   "file_extension": ".py",
   "mimetype": "text/x-python",
   "name": "python",
   "nbconvert_exporter": "python",
   "pygments_lexer": "ipython3",
   "version": "3.9.7"
  }
 },
 "nbformat": 4,
 "nbformat_minor": 4
}
